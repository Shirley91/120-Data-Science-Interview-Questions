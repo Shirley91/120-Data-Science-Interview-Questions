{
 "cells": [
  {
   "cell_type": "markdown",
   "metadata": {},
   "source": [
    "# Programming"
   ]
  },
  {
   "cell_type": "markdown",
   "metadata": {},
   "source": [
    "### 1. Write a function to calculate all possible assignment vectors of 2n users, where n users are assigned to group 0 (control), and n users are assigned to group 1 (treatment). "
   ]
  },
  {
   "cell_type": "code",
   "execution_count": 1,
   "metadata": {},
   "outputs": [],
   "source": [
    "# build-in function\n",
    "from itertools import combinations\n",
    "def allassign(n):\n",
    "    return list(combinations(range(2*n), n))"
   ]
  },
  {
   "cell_type": "code",
   "execution_count": 2,
   "metadata": {},
   "outputs": [
    {
     "data": {
      "text/plain": [
       "[(0, 1, 2),\n",
       " (0, 1, 3),\n",
       " (0, 1, 4),\n",
       " (0, 1, 5),\n",
       " (0, 2, 3),\n",
       " (0, 2, 4),\n",
       " (0, 2, 5),\n",
       " (0, 3, 4),\n",
       " (0, 3, 5),\n",
       " (0, 4, 5),\n",
       " (1, 2, 3),\n",
       " (1, 2, 4),\n",
       " (1, 2, 5),\n",
       " (1, 3, 4),\n",
       " (1, 3, 5),\n",
       " (1, 4, 5),\n",
       " (2, 3, 4),\n",
       " (2, 3, 5),\n",
       " (2, 4, 5),\n",
       " (3, 4, 5)]"
      ]
     },
     "execution_count": 2,
     "metadata": {},
     "output_type": "execute_result"
    }
   ],
   "source": [
    "# example, let n = 3\n",
    "allassign(3)"
   ]
  },
  {
   "cell_type": "code",
   "execution_count": 12,
   "metadata": {},
   "outputs": [],
   "source": [
    "# recursive approach\n",
    "  # k: number of choosed elements \n",
    "  # n: candidate list length\n",
    "def allSamples(k,n):\n",
    "    allC = []\n",
    "    if k == 1:\n",
    "        for i in range(n):\n",
    "            assignment = [0]*n\n",
    "            assignment[i] = 1\n",
    "            allC.append(assignment)\n",
    "    elif n == k:\n",
    "        assigment = [1]*n\n",
    "        allC = [assigment]\n",
    "    else:\n",
    "        pl = n - k + 1\n",
    "        for i in range(pl):\n",
    "            assignment = [0]*(i+1)\n",
    "            assignment[i] = 1\n",
    "            for c in allSamples(k-1,n-i-1):\n",
    "                allC.append(assignment+c)\n",
    "    return allC"
   ]
  },
  {
   "cell_type": "code",
   "execution_count": 13,
   "metadata": {},
   "outputs": [
    {
     "name": "stdout",
     "output_type": "stream",
     "text": [
      "[[1, 1, 1, 0, 0, 0], [1, 1, 0, 1, 0, 0], [1, 1, 0, 0, 1, 0], [1, 1, 0, 0, 0, 1], [1, 0, 1, 1, 0, 0], [1, 0, 1, 0, 1, 0], [1, 0, 1, 0, 0, 1], [1, 0, 0, 1, 1, 0], [1, 0, 0, 1, 0, 1], [1, 0, 0, 0, 1, 1], [0, 1, 1, 1, 0, 0], [0, 1, 1, 0, 1, 0], [0, 1, 1, 0, 0, 1], [0, 1, 0, 1, 1, 0], [0, 1, 0, 1, 0, 1], [0, 1, 0, 0, 1, 1], [0, 0, 1, 1, 1, 0], [0, 0, 1, 1, 0, 1], [0, 0, 1, 0, 1, 1], [0, 0, 0, 1, 1, 1]]\n"
     ]
    }
   ],
   "source": [
    "# example k = 3 and n = 2*k\n",
    "k = 3\n",
    "n = 2*k\n",
    "print (allSamples(k,n))"
   ]
  },
  {
   "cell_type": "markdown",
   "metadata": {},
   "source": [
    "### 3. Program an algorithm to find the best approximate solution to the knapsack problem in a given time."
   ]
  },
  {
   "cell_type": "code",
   "execution_count": 16,
   "metadata": {},
   "outputs": [
    {
     "data": {
      "text/plain": [
       "(14, [1, 4, 5])"
      ]
     },
     "execution_count": 16,
     "metadata": {},
     "output_type": "execute_result"
    }
   ],
   "source": [
    "# using function knapsack\n",
    "import knapsack\n",
    "import numpy as np\n",
    "weight = np.random.randint(10, size = 10)\n",
    "value = np.random.randint(10, size = 10)\n",
    "capacity = 5\n",
    "knapsack.knapsack(weight, value).solve(capacity)"
   ]
  },
  {
   "cell_type": "code",
   "execution_count": 17,
   "metadata": {},
   "outputs": [],
   "source": [
    "# another example\n",
    "from collections import namedtuple\n",
    "\n",
    "Item = namedtuple('Item', 'name weight value'.split())\n",
    "\n",
    "ITEMS = [\n",
    "    Item(\"map\", 9, 150),\n",
    "    Item(\"compass\", 13, 35),\n",
    "    Item(\"water\", 153, 200),\n",
    "    Item(\"sandwich\", 50, 160),\n",
    "    Item(\"glucose\", 15, 60),\n",
    "    Item(\"tin\", 68, 45),\n",
    "    Item(\"banana\", 27, 60),\n",
    "    Item(\"apple\", 39, 40),\n",
    "    Item(\"cheese\", 23, 30),\n",
    "    Item(\"beer\", 52, 10),\n",
    "    Item(\"suntan cream\", 11, 70),\n",
    "    Item(\"camera\", 32, 30),\n",
    "    Item(\"t-shirt\", 24, 15),\n",
    "    Item(\"trousers\", 48, 10),\n",
    "    Item(\"umbrella\", 73, 40),\n",
    "    Item(\"waterproof trousers\", 42, 70),\n",
    "    Item(\"waterproof overclothes\", 43, 75),\n",
    "    Item(\"note-case\", 22, 80),\n",
    "    Item(\"sunglasses\", 7, 20),\n",
    "    Item(\"towel\", 18, 12),\n",
    "    Item(\"socks\", 4, 50),\n",
    "    Item(\"book\", 30, 10),\n",
    "    ]\n",
    "\n",
    "def efficiency(item):\n",
    "    return float(item.value) / float(item.weight)\n",
    "\n",
    "def packing(items=ITEMS, max_weight=400):\n",
    "    def pack(item):\n",
    "        # Attempt to pack item; return True if successful.\n",
    "        if item.weight <= pack.max_weight:\n",
    "            pack.max_weight -= item.weight\n",
    "            return True\n",
    "        else:\n",
    "            return False\n",
    "\n",
    "    pack.max_weight = max_weight\n",
    "    return list(filter(pack, sorted(items, key=efficiency, reverse=True)))"
   ]
  },
  {
   "cell_type": "code",
   "execution_count": 18,
   "metadata": {},
   "outputs": [
    {
     "name": "stdout",
     "output_type": "stream",
     "text": [
      "[Item(name='map', weight=9, value=150), Item(name='socks', weight=4, value=50), Item(name='suntan cream', weight=11, value=70), Item(name='glucose', weight=15, value=60), Item(name='note-case', weight=22, value=80), Item(name='sandwich', weight=50, value=160), Item(name='sunglasses', weight=7, value=20), Item(name='compass', weight=13, value=35), Item(name='banana', weight=27, value=60), Item(name='waterproof overclothes', weight=43, value=75), Item(name='waterproof trousers', weight=42, value=70), Item(name='water', weight=153, value=200)]\n"
     ]
    }
   ],
   "source": [
    "print(packing(items=ITEMS, max_weight=400))"
   ]
  },
  {
   "cell_type": "markdown",
   "metadata": {},
   "source": [
    "### 4. Program an algorithm to find the best approximate solution to the travelling salesman problem in a given time."
   ]
  },
  {
   "cell_type": "code",
   "execution_count": 19,
   "metadata": {},
   "outputs": [],
   "source": [
    "# 2-opt algorithm\n",
    "import numpy as np\n",
    "\n",
    "# Calculate the euclidian distance in n-space of the route r traversing cities c, ending at the path start.\n",
    "path_distance = lambda r,c: np.sum([np.linalg.norm(c[r[p]]-c[r[p-1]]) for p in range(len(r))])\n",
    "# Reverse the order of all elements from element i to element k in array r.\n",
    "two_opt_swap = lambda r,i,k: np.concatenate((r[0:i],r[k:-len(r)+i-1:-1],r[k+1:len(r)]))\n",
    "\n",
    "def two_opt(cities,improvement_threshold):\n",
    "    route = np.arange(cities.shape[0]) # Make an array of row numbers corresponding to cities.\n",
    "    improvement_factor = 1 # Initialize the improvement factor.\n",
    "    best_distance = path_distance(route,cities) # Calculate the distance of the initial path.\n",
    "    while improvement_factor > improvement_threshold: # If the route is still improving, keep going!\n",
    "        distance_to_beat = best_distance # Record the distance at the beginning of the loop.\n",
    "        for swap_first in range(1,len(route)-2): # From each city except the first and last,\n",
    "            for swap_last in range(swap_first+1,len(route)): # to each of the cities following,\n",
    "                new_route = two_opt_swap(route,swap_first,swap_last) # try reversing the order of these cities\n",
    "                new_distance = path_distance(new_route,cities) # and check the total distance with this modification.\n",
    "                if new_distance < best_distance: # If the path distance is an improvement,\n",
    "                    route = new_route # make this the accepted best route\n",
    "                    best_distance = new_distance # and update the distance corresponding to this route.\n",
    "        improvement_factor = 1 - best_distance/distance_to_beat # Calculate how much the route has improved.\n",
    "    return route "
   ]
  },
  {
   "cell_type": "code",
   "execution_count": 20,
   "metadata": {},
   "outputs": [],
   "source": [
    "# Create a matrix of cities, with each row being a location in 2-space (function works in n-dimensions).\n",
    "cities = np.random.RandomState(42).rand(70,2)\n",
    "# Find a good route with 2-opt (\"route\" gives the order in which to travel to each city by row number.)\n",
    "route = two_opt(cities,0.001)"
   ]
  },
  {
   "cell_type": "code",
   "execution_count": 22,
   "metadata": {},
   "outputs": [
    {
     "data": {
      "image/png": "[encoded data removed]",
      "text/plain": [
       "<Figure size 432x288 with 1 Axes>"
      ]
     },
     "metadata": {},
     "output_type": "display_data"
    }
   ],
   "source": [
    "# approximated solution path shown on a plot\n",
    "import matplotlib.pyplot as plt\n",
    "# Reorder the cities matrix by route order in a new matrix for plotting.\n",
    "new_cities_order = np.concatenate((np.array([cities[route[i]] for i in range(len(route))]),np.array([cities[0]])))\n",
    "# Plot the cities\n",
    "plt.scatter(cities[:,0],cities[:,1])\n",
    "# Plot the path\n",
    "plt.plot(new_cities_order[:,0],new_cities_order[:,1])\n",
    "plt.show()"
   ]
  },
  {
   "cell_type": "code",
   "execution_count": 23,
   "metadata": {},
   "outputs": [
    {
     "name": "stdout",
     "output_type": "stream",
     "text": [
      "Route: [ 0 12 68  4 57 27 60 63 26 17 25 56 37 43  1 46 40 59 44 31 47 19 48  9\n",
      " 24 15 35 67 52  6 58 38 10 14 39 61 18 41 54 49 28  2  7 55 65 30 42 11\n",
      " 62 66 29 20 64 50 36 21  5 34 16  3 33 45 22 13 32  8 23 51 53 69]\n",
      "\n",
      "Distance: 7.465841014357375\n"
     ]
    }
   ],
   "source": [
    "# Print the route as row numbers and the total distance travelled by the path.\n",
    "print(\"Route: \" + str(route) + \"\\n\\nDistance: \" + str(path_distance(route,cities)))"
   ]
  },
  {
   "cell_type": "markdown",
   "metadata": {},
   "source": [
    "### 5. You have a stream of data coming in of size n, but you don’t know what n is ahead of time. Write an algorithm that will take a random sample of k elements. Can you write one that takes O(k) space?"
   ]
  },
  {
   "cell_type": "code",
   "execution_count": 24,
   "metadata": {},
   "outputs": [],
   "source": [
    "# reservior sampling\n",
    "import random\n",
    "def reservior_sampling(iterator, k):\n",
    "    sample = []\n",
    "    N = 0\n",
    "    for item in iterator:\n",
    "        N += 1\n",
    "        if len(sample) < k:\n",
    "            sample.append(item)\n",
    "        else:\n",
    "            s = int(random.random()*N)\n",
    "            if s < k:\n",
    "                sample[s] = item\n",
    "    return sample"
   ]
  },
  {
   "cell_type": "code",
   "execution_count": 25,
   "metadata": {},
   "outputs": [],
   "source": [
    "# another way of reservior sampling\n",
    "# algorithm\n",
    "import numpy as np\n",
    "def reservoir_sampling(size):\n",
    "    i, sample = 0, []\n",
    "    while True:\n",
    "        item = yield i, sample\n",
    "        \n",
    "        i += 1\n",
    "        k = np.random.randint(0, i)\n",
    "        if len(sample) < size:\n",
    "            sample.append(item)\n",
    "        elif k < size:\n",
    "            sample[k] = item"
   ]
  },
  {
   "cell_type": "code",
   "execution_count": 26,
   "metadata": {},
   "outputs": [
    {
     "name": "stdout",
     "output_type": "stream",
     "text": [
      "100 [19, 30, 75, 21, 5]\n",
      "200 [159, 30, 75, 21, 104]\n",
      "300 [203, 232, 75, 242, 104]\n",
      "400 [203, 232, 75, 242, 304]\n",
      "500 [203, 470, 75, 402, 304]\n",
      "600 [556, 470, 75, 402, 304]\n",
      "700 [695, 470, 75, 402, 304]\n",
      "800 [695, 722, 75, 402, 304]\n",
      "900 [695, 722, 75, 402, 304]\n",
      "1000 [695, 722, 75, 402, 900]\n"
     ]
    }
   ],
   "source": [
    "# sampling\n",
    "reservoir = reservoir_sampling(5)\n",
    "next(reservoir)\n",
    "for i in range(1000):\n",
    "    k, sample = reservoir.send(i)\n",
    "    if k % 100 == 0:\n",
    "        print(k, sample)"
   ]
  },
  {
   "cell_type": "markdown",
   "metadata": {},
   "source": [
    "### 6. Write an algorithm that can calculate the square root of a number"
   ]
  },
  {
   "cell_type": "code",
   "execution_count": 28,
   "metadata": {},
   "outputs": [],
   "source": [
    "# simple way but slow\n",
    "def sqr_root(x):\n",
    "    if x < 0:\n",
    "        return \"Error, x could not be negative.\"\n",
    "    elif x == 0:\n",
    "        return x\n",
    "    else:\n",
    "        a = 1\n",
    "        b = x\n",
    "        while (abs(a-b) > 0):\n",
    "            a = (a+b)/2\n",
    "            b = x/a\n",
    "        return a"
   ]
  },
  {
   "cell_type": "code",
   "execution_count": 33,
   "metadata": {},
   "outputs": [
    {
     "name": "stdout",
     "output_type": "stream",
     "text": [
      "26.457513110645905\n"
     ]
    }
   ],
   "source": [
    "print(sqr_root(700))"
   ]
  },
  {
   "cell_type": "code",
   "execution_count": 35,
   "metadata": {},
   "outputs": [],
   "source": [
    "# babyloian method (fast way)\n",
    "def sqr_root(x):\n",
    "    if x < 0:\n",
    "        return \"Error, x could not be negative.\"\n",
    "    elif x == 0:\n",
    "        return 0\n",
    "    else:\n",
    "        a = x/2.0\n",
    "        b = a + 1\n",
    "        while (a != b):\n",
    "            b = a\n",
    "            a = (a + x/a)/2\n",
    "        return a"
   ]
  },
  {
   "cell_type": "code",
   "execution_count": 37,
   "metadata": {},
   "outputs": [
    {
     "name": "stdout",
     "output_type": "stream",
     "text": [
      "83.66600265340756\n"
     ]
    }
   ],
   "source": [
    "print(sqr_root(7000))"
   ]
  }
 ],
 "metadata": {
  "kernelspec": {
   "display_name": "Python 3",
   "language": "python",
   "name": "python3"
  },
  "language_info": {
   "codemirror_mode": {
    "name": "ipython",
    "version": 3
   },
   "file_extension": ".py",
   "mimetype": "text/x-python",
   "name": "python",
   "nbconvert_exporter": "python",
   "pygments_lexer": "ipython3",
   "version": "3.7.0"
  }
 },
 "nbformat": 4,
 "nbformat_minor": 2
}
